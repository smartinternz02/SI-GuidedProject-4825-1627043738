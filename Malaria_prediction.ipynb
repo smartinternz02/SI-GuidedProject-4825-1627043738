{
 "cells": [
  {
   "cell_type": "markdown",
   "id": "9abe1da6",
   "metadata": {},
   "source": [
    "# Testing the Malaria Model"
   ]
  },
  {
   "cell_type": "code",
   "execution_count": 1,
   "id": "2aef1082",
   "metadata": {},
   "outputs": [],
   "source": [
    "# Importing Libraries\n",
    "from tensorflow.keras.models import load_model\n",
    "from tensorflow.keras.preprocessing import image"
   ]
  },
  {
   "cell_type": "markdown",
   "id": "97f7f682",
   "metadata": {},
   "source": [
    "> **a. Testing for Uninfected cell image**"
   ]
  },
  {
   "cell_type": "code",
   "execution_count": 2,
   "id": "ec6ba932",
   "metadata": {},
   "outputs": [],
   "source": [
    "# Loading the model\n",
    "malaria_model = load_model (\"malaria.h5\")"
   ]
  },
  {
   "cell_type": "code",
   "execution_count": 3,
   "id": "952bf937",
   "metadata": {},
   "outputs": [],
   "source": [
    "# Load the image\n",
    "img = image.load_img(\"Uninfected.png\", target_size=(64, 64))"
   ]
  },
  {
   "cell_type": "code",
   "execution_count": 4,
   "id": "07ef87a0",
   "metadata": {},
   "outputs": [],
   "source": [
    "# Convert the image to array type\n",
    "x = image.img_to_array(img)"
   ]
  },
  {
   "cell_type": "code",
   "execution_count": 5,
   "id": "d03c19c8",
   "metadata": {},
   "outputs": [],
   "source": [
    "# Expand the dimension to a 4D type\n",
    "import numpy as np\n",
    "x = np.expand_dims(x, axis = 0)"
   ]
  },
  {
   "cell_type": "code",
   "execution_count": 6,
   "id": "4a014211",
   "metadata": {},
   "outputs": [
    {
     "data": {
      "text/plain": [
       "'Uninfected'"
      ]
     },
     "execution_count": 6,
     "metadata": {},
     "output_type": "execute_result"
    }
   ],
   "source": [
    "# Prediction\n",
    "index = ['Parasitized', 'Uninfected']\n",
    "pred = np.argmax(malaria_model.predict(x))\n",
    "index[pred]"
   ]
  },
  {
   "cell_type": "markdown",
   "id": "89462511",
   "metadata": {},
   "source": [
    "***Here we can see that the prediction is correct***"
   ]
  },
  {
   "cell_type": "markdown",
   "id": "76cbdc19",
   "metadata": {},
   "source": [
    "> **b. Testing for Parasitized cell image**"
   ]
  },
  {
   "cell_type": "code",
   "execution_count": 7,
   "id": "4a1be927",
   "metadata": {},
   "outputs": [
    {
     "data": {
      "text/plain": [
       "'Parasitized'"
      ]
     },
     "execution_count": 7,
     "metadata": {},
     "output_type": "execute_result"
    }
   ],
   "source": [
    "img1 = image.load_img(\"Parasitized.png\", target_size=(64, 64))\n",
    "y = image.img_to_array(img1)\n",
    "y = np.expand_dims(y, axis = 0)\n",
    "pred1 = np.argmax(malaria_model.predict(y))\n",
    "index[pred1]"
   ]
  },
  {
   "cell_type": "markdown",
   "id": "bb3fc39a",
   "metadata": {},
   "source": [
    "***Here we can see that the prediction is correct as well***"
   ]
  },
  {
   "cell_type": "code",
   "execution_count": null,
   "id": "9f60947a",
   "metadata": {},
   "outputs": [],
   "source": []
  }
 ],
 "metadata": {
  "kernelspec": {
   "display_name": "Python 3",
   "language": "python",
   "name": "python3"
  },
  "language_info": {
   "codemirror_mode": {
    "name": "ipython",
    "version": 3
   },
   "file_extension": ".py",
   "mimetype": "text/x-python",
   "name": "python",
   "nbconvert_exporter": "python",
   "pygments_lexer": "ipython3",
   "version": "3.8.8"
  }
 },
 "nbformat": 4,
 "nbformat_minor": 5
}

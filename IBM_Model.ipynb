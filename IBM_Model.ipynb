{
 "cells": [
  {
   "cell_type": "markdown",
   "id": "38b0da52",
   "metadata": {},
   "source": [
    "# Importing IBM Cloud Model in Jupyter Notebook"
   ]
  },
  {
   "cell_type": "code",
   "execution_count": 1,
   "id": "fee325c2",
   "metadata": {},
   "outputs": [
    {
     "name": "stdout",
     "output_type": "stream",
     "text": [
      "Collecting watson-machine-learning-client\n",
      "  Downloading watson_machine_learning_client-1.0.391-py3-none-any.whl (538 kB)\n",
      "Requirement already satisfied: urllib3 in c:\\users\\anann\\anaconda3\\lib\\site-packages (from watson-machine-learning-client) (1.26.4)\n",
      "Requirement already satisfied: pandas in c:\\users\\anann\\anaconda3\\lib\\site-packages (from watson-machine-learning-client) (1.2.4)\n",
      "Requirement already satisfied: ibm-cos-sdk in c:\\users\\anann\\anaconda3\\lib\\site-packages (from watson-machine-learning-client) (2.7.0)\n",
      "Requirement already satisfied: certifi in c:\\users\\anann\\anaconda3\\lib\\site-packages (from watson-machine-learning-client) (2020.12.5)\n",
      "Requirement already satisfied: requests in c:\\users\\anann\\anaconda3\\lib\\site-packages (from watson-machine-learning-client) (2.25.1)\n",
      "Requirement already satisfied: tqdm in c:\\users\\anann\\anaconda3\\lib\\site-packages (from watson-machine-learning-client) (4.59.0)\n",
      "Requirement already satisfied: tabulate in c:\\users\\anann\\anaconda3\\lib\\site-packages (from watson-machine-learning-client) (0.8.9)\n",
      "Requirement already satisfied: lomond in c:\\users\\anann\\anaconda3\\lib\\site-packages (from watson-machine-learning-client) (0.3.3)\n",
      "Collecting boto3\n",
      "  Downloading boto3-1.18.9-py3-none-any.whl (131 kB)\n",
      "Requirement already satisfied: jmespath<1.0.0,>=0.7.1 in c:\\users\\anann\\anaconda3\\lib\\site-packages (from boto3->watson-machine-learning-client) (0.10.0)\n",
      "Collecting botocore<1.22.0,>=1.21.9\n",
      "  Downloading botocore-1.21.9-py3-none-any.whl (7.8 MB)\n",
      "Collecting s3transfer<0.6.0,>=0.5.0\n",
      "  Downloading s3transfer-0.5.0-py3-none-any.whl (79 kB)\n",
      "Requirement already satisfied: python-dateutil<3.0.0,>=2.1 in c:\\users\\anann\\anaconda3\\lib\\site-packages (from botocore<1.22.0,>=1.21.9->boto3->watson-machine-learning-client) (2.8.1)\n",
      "Requirement already satisfied: six>=1.5 in c:\\users\\anann\\anaconda3\\lib\\site-packages (from python-dateutil<3.0.0,>=2.1->botocore<1.22.0,>=1.21.9->boto3->watson-machine-learning-client) (1.15.0)\n",
      "Requirement already satisfied: ibm-cos-sdk-s3transfer==2.7.0 in c:\\users\\anann\\anaconda3\\lib\\site-packages (from ibm-cos-sdk->watson-machine-learning-client) (2.7.0)\n",
      "Requirement already satisfied: ibm-cos-sdk-core==2.7.0 in c:\\users\\anann\\anaconda3\\lib\\site-packages (from ibm-cos-sdk->watson-machine-learning-client) (2.7.0)\n",
      "Requirement already satisfied: docutils<0.16,>=0.10 in c:\\users\\anann\\anaconda3\\lib\\site-packages (from ibm-cos-sdk-core==2.7.0->ibm-cos-sdk->watson-machine-learning-client) (0.15.2)\n",
      "Requirement already satisfied: idna<3,>=2.5 in c:\\users\\anann\\anaconda3\\lib\\site-packages (from requests->watson-machine-learning-client) (2.10)\n",
      "Requirement already satisfied: chardet<5,>=3.0.2 in c:\\users\\anann\\anaconda3\\lib\\site-packages (from requests->watson-machine-learning-client) (4.0.0)\n",
      "Requirement already satisfied: numpy>=1.16.5 in c:\\users\\anann\\anaconda3\\lib\\site-packages (from pandas->watson-machine-learning-client) (1.19.5)\n",
      "Requirement already satisfied: pytz>=2017.3 in c:\\users\\anann\\anaconda3\\lib\\site-packages (from pandas->watson-machine-learning-client) (2021.1)\n",
      "Installing collected packages: botocore, s3transfer, boto3, watson-machine-learning-client\n",
      "Successfully installed boto3-1.18.9 botocore-1.21.9 s3transfer-0.5.0 watson-machine-learning-client-1.0.391\n"
     ]
    }
   ],
   "source": [
    "!pip install watson-machine-learning-client --upgrade"
   ]
  },
  {
   "cell_type": "code",
   "execution_count": 2,
   "id": "4da4958f",
   "metadata": {},
   "outputs": [],
   "source": [
    "# Replace the credentials received from Watson Machine Learning Service\n",
    "\n",
    "from ibm_watson_machine_learning import APIClient\n",
    "wml_credentials = {\n",
    "    \"url\" : \"https://us-south.ml.cloud.ibm.com\",\n",
    "    \"apikey\" : \"crhcwbJogxeEQm3v9kpEsCXCmlO_ceDYNqm4G94RuCSF\"\n",
    "}\n",
    "# connecting my client with ML credentials\n",
    "client = APIClient(wml_credentials)"
   ]
  },
  {
   "cell_type": "code",
   "execution_count": 3,
   "id": "f9ab69e4",
   "metadata": {},
   "outputs": [],
   "source": [
    "# Creating a deployment space and a function to get the metadata of the deployment space\n",
    "def guid_from_space_name(client, space_name):\n",
    "    space = client.spaces.get_details()\n",
    "    return (next(item for item in space['resources'] if item['entity'][\"name\"] == space_name)['metadata']['id'])"
   ]
  },
  {
   "cell_type": "code",
   "execution_count": 4,
   "id": "efbdeeaf",
   "metadata": {},
   "outputs": [
    {
     "name": "stdout",
     "output_type": "stream",
     "text": [
      "Space UID = c63483e2-98d7-4c8f-918f-f4fb2d49e14e\n"
     ]
    }
   ],
   "source": [
    "# Calling the space\n",
    "space_uid = guid_from_space_name(client, 'Malaria_model')\n",
    "print(\"Space UID = \" + space_uid)"
   ]
  },
  {
   "cell_type": "code",
   "execution_count": 5,
   "id": "24efecc2",
   "metadata": {},
   "outputs": [
    {
     "data": {
      "text/plain": [
       "'SUCCESS'"
      ]
     },
     "execution_count": 5,
     "metadata": {},
     "output_type": "execute_result"
    }
   ],
   "source": [
    "# Make that as the default space ID\n",
    "client.set.default_space(space_uid)"
   ]
  },
  {
   "cell_type": "code",
   "execution_count": 6,
   "id": "fe9f2b84",
   "metadata": {},
   "outputs": [
    {
     "name": "stdout",
     "output_type": "stream",
     "text": [
      "Successfully saved model content to file: 'malaria.tar.gz'\n"
     ]
    },
    {
     "data": {
      "text/plain": [
       "'C:\\\\Users\\\\anann\\\\OneDrive\\\\Desktop\\\\College\\\\AI_SmartBridge/malaria.tar.gz'"
      ]
     },
     "execution_count": 6,
     "metadata": {},
     "output_type": "execute_result"
    }
   ],
   "source": [
    "client.repository.download('544b2c3b-11ef-42c3-8ab6-dda94225eeac','malaria.tar.gz')"
   ]
  },
  {
   "cell_type": "code",
   "execution_count": null,
   "id": "d618dbc7",
   "metadata": {},
   "outputs": [],
   "source": []
  }
 ],
 "metadata": {
  "kernelspec": {
   "display_name": "Python 3",
   "language": "python",
   "name": "python3"
  },
  "language_info": {
   "codemirror_mode": {
    "name": "ipython",
    "version": 3
   },
   "file_extension": ".py",
   "mimetype": "text/x-python",
   "name": "python",
   "nbconvert_exporter": "python",
   "pygments_lexer": "ipython3",
   "version": "3.8.8"
  }
 },
 "nbformat": 4,
 "nbformat_minor": 5
}
